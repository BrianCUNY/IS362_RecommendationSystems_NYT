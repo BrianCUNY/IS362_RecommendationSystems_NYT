{
 "cells": [
  {
   "cell_type": "code",
   "execution_count": 1,
   "metadata": {},
   "outputs": [],
   "source": [
    "from IPython import display "
   ]
  },
  {
   "cell_type": "markdown",
   "metadata": {},
   "source": [
    "# The New York Times - Recommendation System(s)"
   ]
  },
  {
   "cell_type": "markdown",
   "metadata": {},
   "source": [
    "For this week's discussion, I will be reviewing the New York Times' reccomendation system(s) that fuel their algorithms that influence what articles will be recommended to them. I have reviewed this article from The New York Times that details how their recommendation systems work for their users: https://open.blogs.nytimes.com/2015/08/11/building-the-next-new-york-times-recommendation-engine/"
   ]
  },
  {
   "cell_type": "markdown",
   "metadata": {},
   "source": [
    "# Who are your target users?"
   ]
  },
  {
   "cell_type": "markdown",
   "metadata": {},
   "source": [
    "The target users of NYT's recommendation systems are it's readers such as myself. I personally read the NYT on a daily basis as one of my main sources for news and information on upcoming book releases and reviews. It is in the interests of NYT to keep their readers engaged and returning to their website or print articles to support themselves with the associated ad revenue stemming from this process. "
   ]
  },
  {
   "cell_type": "markdown",
   "metadata": {},
   "source": [
    "# What are their key goals?"
   ]
  },
  {
   "cell_type": "markdown",
   "metadata": {},
   "source": [
    "The key goals of the NYT's readers are to visit their site to satiate their curiosity of what is going on in the world, keep up to date on politics, view opinion pieces from guest columnists, and delve deeper into whichever topic interests them. This ranges from dance, Broadway, books and more localized content such as the New York metro area real estate which is of particular interest to those wishing to sell or move in the area. The user should be able to arrive to the site and find all content that would be of interest to them, and NYT in return is attempting to keep these readers engaged throughout the duration of their visit."
   ]
  },
  {
   "cell_type": "markdown",
   "metadata": {},
   "source": [
    "# How can you help them accomplish these goals?"
   ]
  },
  {
   "cell_type": "markdown",
   "metadata": {},
   "source": [
    "The New York Times achieves this through several steps of content filtering through their recommendation systems and accompanying algorithms. There is not a single recommendation algorithm employed here, there are in fact several that NYT employs to accurate recommend articles based on a given user's thirty day viewing history that increases in accuracy the longer it is used. First, there are category tags for each story published on their website, this ranges from politics to art and are used to categorize what area of interest this given story is in. Next, there are keyword tags tied to each article that can also be used to check against this first categorization, such as if the word \"Clinton\" appears 4-5 times in the article, it can be safe to assume this article is political in nature. NYT then takes a give user's previous 30 day history of viewing articles to see what their general interests are, if said person reads mostly political and book articles, then it can be safe to assume that other articles they have not read with political/book category tags could be of potential interest to them. \n",
    "\n",
    "This recommendation system can then further be honed to provide more accurate recommendations by taking into account collaborative filtering which can accommodate the shortcomings from the first content based filtering approach - If a user reads an article recommended that they do not like or accidentally clicked an article of no interest to them, by crowd sourcing recommendations from other users with similar interests, this can assist their algorithms to \"stay on track\" and provide more accurate results. The way this recommendation system works is NYT compares a given user with others who have similarly expressed interests such as politics and books. Other users who for the majority view just politics and books (similar to the user in question) have also viewed this article XYZ - this algorithm would then recommend this article XYZ as the user: 1.) views politics/books 2.) has not read this article (which is why it will be recommended to retain user engagement further) 3.) other similar users who view mostly politics/books have read this article (could take into account indicators of enjoyment such as length of time spent on the article, not just clicking the article and immediately back tracking). \n",
    "\n"
   ]
  },
  {
   "cell_type": "markdown",
   "metadata": {},
   "source": [
    "# Further Recommendations"
   ]
  },
  {
   "cell_type": "markdown",
   "metadata": {},
   "source": [
    "I believe in order to advance NYT's recommendation systems even further would be to receive input from readers that could influence the recommendations provided to them directly. It appears NYT does not offer the ability to save an article for all articles on their website - this could be a good indicator if the user liked this article, so much that they wanted to save it for later or share with others. Currently on the NYT post about their recommendation systems, the ability to save this article exists, but on a breaking news article about the City of New York's plans to reopen due to COVID-19, there is no save feature button. If NYT implemented a simple thumbs up or thumbs down liking system for all users on every article, this could be another data point for their algorithm to analyze to provide better recommendations. "
   ]
  },
  {
   "cell_type": "code",
   "execution_count": 8,
   "metadata": {},
   "outputs": [
    {
     "data": {
      "image/png": "[encoded data removed]",
      "text/plain": [
       "<IPython.core.display.Image object>"
      ]
     },
     "execution_count": 8,
     "metadata": {},
     "output_type": "execute_result"
    }
   ],
   "source": [
    "display.Image(\"./nyt2.png\")"
   ]
  },
  {
   "cell_type": "code",
   "execution_count": 9,
   "metadata": {},
   "outputs": [
    {
     "data": {
      "image/png": "[encoded data removed]",
      "text/plain": [
       "<IPython.core.display.Image object>"
      ]
     },
     "execution_count": 9,
     "metadata": {},
     "output_type": "execute_result"
    }
   ],
   "source": [
    "display.Image(\"./nyt1.png\")"
   ]
  }
 ],
 "metadata": {
  "kernelspec": {
   "display_name": "Python 3",
   "language": "python",
   "name": "python3"
  },
  "language_info": {
   "codemirror_mode": {
    "name": "ipython",
    "version": 3
   },
   "file_extension": ".py",
   "mimetype": "text/x-python",
   "name": "python",
   "nbconvert_exporter": "python",
   "pygments_lexer": "ipython3",
   "version": "3.8.5"
  }
 },
 "nbformat": 4,
 "nbformat_minor": 4
}
